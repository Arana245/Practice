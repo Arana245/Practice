{
 "cells": [
  {
   "cell_type": "code",
   "execution_count": 2,
   "metadata": {},
   "outputs": [
    {
     "name": "stdout",
     "output_type": "stream",
     "text": [
      "¡Hola Mundo!\n"
     ]
    }
   ],
   "source": [
    "mensaje = \"¡Hola Mundo!\" \n",
    "print(mensaje)"
   ]
  },
  {
   "cell_type": "code",
   "execution_count": 3,
   "metadata": {},
   "outputs": [
    {
     "name": "stdout",
     "output_type": "stream",
     "text": [
      "Manuel\n",
      "Manuel\n",
      "Manuel\n",
      "Manuel\n",
      "Manuel\n",
      "Manuel\n",
      "Manuel\n",
      "Manuel\n",
      "Manuel\n",
      "Manuel\n",
      "Manuel\n",
      "Manuel\n"
     ]
    }
   ],
   "source": [
    "nombre = input(\"¿Cómo te llamas? \") \n",
    "numero = int(input(\"Introduce un número entero: \")) \n",
    "for i in range(numero): \n",
    "    print(nombre)"
   ]
  },
  {
   "cell_type": "code",
   "execution_count": 4,
   "metadata": {},
   "outputs": [
    {
     "name": "stdout",
     "output_type": "stream",
     "text": [
      "Manuel Arana\n",
      "Manuel Arana\n"
     ]
    }
   ],
   "source": [
    "nombre = input(\"¿Cual es tu primer nombre? \") \n",
    "apellido = input(\"¿Cual es tu primer apellido? \") \n",
    "numero = int(input(\"Introduce cuantas veces comiste hoy: \")) \n",
    "for i in range (numero): \n",
    "    print(nombre+\" \"+apellido)"
   ]
  },
  {
   "cell_type": "code",
   "execution_count": 1,
   "metadata": {},
   "outputs": [
    {
     "name": "stdout",
     "output_type": "stream",
     "text": [
      "MANUEL tiene 6 letras\n"
     ]
    }
   ],
   "source": [
    "nombre = input(\"¿Cómo te llamas? \")\n",
    "nombre_mayus = nombre.upper()\n",
    "numero_letras = len(nombre_mayus)\n",
    "print(nombre_mayus + \" tiene \" + str(numero_letras) + \" letras\")"
   ]
  },
  {
   "cell_type": "code",
   "execution_count": 4,
   "metadata": {},
   "outputs": [
    {
     "name": "stdout",
     "output_type": "stream",
     "text": [
      "Nombre en minúsculas: manuel jose esperanzo\n",
      "Nombre en mayúsculas: MANUEL JOSE ESPERANZO\n",
      "Nombre con mayúsculas al inicio: Manuel Jose Esperanzo\n"
     ]
    }
   ],
   "source": [
    "nombre_completo = input(\"Introduce tu nombre completo: \")\n",
    "nombre_minusculas = nombre_completo.lower()\n",
    "nombre_mayusculas = nombre_completo.upper()\n",
    "nombre_capitalizado = nombre_completo.title()\n",
    "\n",
    "print(f\"Nombre en minúsculas: {nombre_minusculas}\")\n",
    "print(f\"Nombre en mayúsculas: {nombre_mayusculas}\")\n",
    "print(f\"Nombre con mayúsculas al inicio: {nombre_capitalizado}\")"
   ]
  },
  {
   "cell_type": "code",
   "execution_count": 4,
   "metadata": {},
   "outputs": [
    {
     "name": "stdout",
     "output_type": "stream",
     "text": [
      "Nombre y apellido en minusculas: manuel arana\n",
      "Nombre y apellido en mayusculas: MANUEL ARANA\n",
      "Nombre y apellido con mayusculas al inicio: Manuel Arana\n",
      "Manuel tiene 6 letras y Arana tiene 5 letras.\n"
     ]
    }
   ],
   "source": [
    "nombre = input(\"Tu primer nombre es: \")\n",
    "apellido = input(\"tu primer apellido es: \")\n",
    "numero_letras_nombre = len(nombre)\n",
    "numero_letras_apellido = len(apellido)\n",
    "nombre_mayusculas = nombre.upper()\n",
    "nombre_minusculas = nombre.lower()\n",
    "nombre_capitalizado = nombre.title()\n",
    "apellido_mayusculas = apellido.upper()\n",
    "apellido_minusculas = apellido.lower()\n",
    "apellido_capitalizado = apellido.title()\n",
    "print(f\"Nombre y apellido en minusculas: {nombre_minusculas + \" \" + apellido_minusculas}\")\n",
    "print(f\"Nombre y apellido en mayusculas: {nombre_mayusculas + \" \" + apellido_mayusculas}\")\n",
    "print(f\"Nombre y apellido con mayusculas al inicio: {nombre_capitalizado + \" \" + apellido_capitalizado}\")\n",
    "print(nombre_capitalizado + \" tiene \" + str(numero_letras_nombre) + \" letras y \" + apellido_capitalizado + \" tiene \" + str(numero_letras_apellido) + \" letras.\")\n"
   ]
  },
  {
   "cell_type": "code",
   "execution_count": 34,
   "metadata": {},
   "outputs": [
    {
     "name": "stdout",
     "output_type": "stream",
     "text": [
      "El numero telefonico es: +52-5523308643-2\n",
      "pues jodete\n"
     ]
    }
   ],
   "source": [
    "prefijo = input(\"Ingrese el prefijo:  \")\n",
    "numero_telefonico = input(\"Ingrese el numero telefonico: \")\n",
    "extension = input(\"Ingrese la extension: \")\n",
    "print(f\"El numero telefonico es: +{prefijo}-{numero_telefonico}-{extension}\")\n",
    "numero_solo = input(\"Deseas el el numero sin prefijo y sin extension? 1 [yes] 2[no]\")\n",
    "if numero_solo == \"1\":\n",
    "    print(f\"El numero es: {numero_telefonico}\")\n",
    "else:\n",
    "    print(\"pues jodete\")"
   ]
  },
  {
   "cell_type": "code",
   "execution_count": 1,
   "metadata": {},
   "outputs": [
    {
     "name": "stdout",
     "output_type": "stream",
     "text": [
      "?ut y neib yum oy ?satse omoc ,aloh\n"
     ]
    }
   ],
   "source": [
    "frase = input(\"Introduce una frase: \")\n",
    "print(frase[::-1])"
   ]
  },
  {
   "cell_type": "code",
   "execution_count": 5,
   "metadata": {},
   "outputs": [
    {
     "name": "stdout",
     "output_type": "stream",
     "text": [
      "en estos momentos estoy sentAdo en frente de lA computAdorA, lklevo AproximAdAmente 12 horAs Aqui\n"
     ]
    }
   ],
   "source": [
    "frase = input(\"Introduce una frase: \")\n",
    "vocal = input(\"Introduce una vocal en minuscula: \")\n",
    "print(frase.replace(vocal, vocal.upper()))"
   ]
  },
  {
   "cell_type": "code",
   "execution_count": 6,
   "metadata": {},
   "outputs": [
    {
     "name": "stdout",
     "output_type": "stream",
     "text": [
      "manoarana@ceu.es\n"
     ]
    }
   ],
   "source": [
    "email = input(\"intropduce tu correo electronico\")\n",
    "print(email[:email.find('@')] + '@ceu.es')"
   ]
  },
  {
   "cell_type": "code",
   "execution_count": 8,
   "metadata": {},
   "outputs": [
    {
     "name": "stdout",
     "output_type": "stream",
     "text": [
      "1 metros 72 centimos.\n"
     ]
    }
   ],
   "source": [
    "estatura = input(\"introduce tu estatura: \")\n",
    "print(estatura[:estatura.find('.')], 'metros' , estatura[estatura.find('.')+1:], 'centimos.')\n"
   ]
  }
 ],
 "metadata": {
  "kernelspec": {
   "display_name": "Python 3",
   "language": "python",
   "name": "python3"
  },
  "language_info": {
   "codemirror_mode": {
    "name": "ipython",
    "version": 3
   },
   "file_extension": ".py",
   "mimetype": "text/x-python",
   "name": "python",
   "nbconvert_exporter": "python",
   "pygments_lexer": "ipython3",
   "version": "3.12.1"
  }
 },
 "nbformat": 4,
 "nbformat_minor": 2
}
